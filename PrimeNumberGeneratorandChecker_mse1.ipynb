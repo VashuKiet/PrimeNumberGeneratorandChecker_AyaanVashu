{
  "nbformat": 4,
  "nbformat_minor": 0,
  "metadata": {
    "colab": {
      "provenance": [],
      "authorship_tag": "ABX9TyPOl1kzuYYxnzHpaMweA5ue",
      "include_colab_link": true
    },
    "kernelspec": {
      "name": "python3",
      "display_name": "Python 3"
    },
    "language_info": {
      "name": "python"
    }
  },
  "cells": [
    {
      "cell_type": "markdown",
      "metadata": {
        "id": "view-in-github",
        "colab_type": "text"
      },
      "source": [
        "<a href=\"https://colab.research.google.com/github/VashuKiet/PrimeNumberGeneratorandChecker_AyaanVashu/blob/main/PrimeNumberGeneratorandChecker_mse1.ipynb\" target=\"_parent\"><img src=\"https://colab.research.google.com/assets/colab-badge.svg\" alt=\"Open In Colab\"/></a>"
      ]
    },
    {
      "cell_type": "code",
      "execution_count": 7,
      "metadata": {
        "colab": {
          "base_uri": "https://localhost:8080/"
        },
        "id": "TJUtO9Eblzcf",
        "outputId": "4671e1c8-c3b3-4a00-8cc1-66e7727ed7c6"
      },
      "outputs": [
        {
          "output_type": "stream",
          "name": "stdout",
          "text": [
            "Do you want to check if a number is prime (1) or generate primes in a range (2)? Enter 1 or 2: 2\n",
            "Generate primes in the range (you just need to specify the range).\n",
            "Enter the starting number of the range: 3\n",
            "Enter the ending number of the range: 99\n",
            "Prime numbers between 3 and 99: [3, 5, 7, 11, 13, 17, 19, 23, 29, 31, 37, 41, 43, 47, 53, 59, 61, 67, 71, 73, 79, 83, 89, 97]\n",
            "Do you want to stop the program? (y/n): n\n",
            "Do you want to check if a number is prime (1) or generate primes in a range (2)? Enter 1 or 2: 1\n",
            "Enter a number to check if it's prime: 61\n",
            "61 is a prime number.\n",
            "Do you want to stop the program? (y/n): y\n",
            "Goodbye!\n"
          ]
        }
      ],
      "source": [
        "# Function to check if a number is prime\n",
        "def is_prime(n):\n",
        "    if n <= 1:\n",
        "        return False  # 0 and 1 are not prime\n",
        "    for i in range(2, int(n**0.5) + 1):  # Check divisibility up to the square root of n\n",
        "        if n % i == 0:\n",
        "            return False  # Divisible means it's not a prime number\n",
        "    return True\n",
        "\n",
        "# Function to generate prime numbers within a specified range\n",
        "def generate_primes_in_range(start, end):\n",
        "    primes = []\n",
        "    for num in range(start, end + 1):\n",
        "        if is_prime(num):\n",
        "            primes.append(num)  # Add prime number to the list\n",
        "    return primes\n",
        "\n",
        "# Function to ask if the user wants to stop or continue\n",
        "def ask_to_continue():\n",
        "    stop_choice = input(\"Do you want to stop the program? (y/n): \").lower()\n",
        "    if stop_choice == 'y':\n",
        "        print(\"Goodbye!\")\n",
        "        return False  # Stop the program\n",
        "    elif stop_choice == 'n':\n",
        "        return True  # Continue the program\n",
        "    else:\n",
        "        print(\"Invalid choice. Please enter 'y' for yes or 'n' for no.\")\n",
        "        return ask_to_continue()  # Ask again if the input is invalid\n",
        "\n",
        "# Main function to interact with the user\n",
        "def main():\n",
        "    while True:  # Loop to allow multiple tasks until user chooses to stop\n",
        "        # Ask the user whether they want to check if a number is prime or generate primes\n",
        "        choice = input(\"Do you want to check if a number is prime (1) or generate primes in a range (2)? Enter 1 or 2: \")\n",
        "\n",
        "        if choice == '1':\n",
        "            number = int(input(\"Enter a number to check if it's prime: \"))\n",
        "            if is_prime(number):\n",
        "                print(f\"{number} is a prime number.\")\n",
        "            else:\n",
        "                print(f\"{number} is not a prime number.\")\n",
        "\n",
        "        elif choice == '2':\n",
        "            # Automatically display a prompt about generating primes\n",
        "            print(\"Generate primes in the range (you just need to specify the range).\")\n",
        "            start = int(input(\"Enter the starting number of the range: \"))\n",
        "            end = int(input(\"Enter the ending number of the range: \"))\n",
        "\n",
        "            # Validate the range inputs\n",
        "            if start > end:\n",
        "                print(\"The starting number cannot be greater than the ending number.\")\n",
        "            elif start < 2:\n",
        "                print(\"Prime numbers start from 2. Please enter a starting number greater than or equal to 2.\")\n",
        "            else:\n",
        "                primes = generate_primes_in_range(start, end)\n",
        "                print(f\"Prime numbers between {start} and {end}: {primes}\")\n",
        "\n",
        "        else:\n",
        "            print(\"Invalid choice. Please enter 1 or 2.\")\n",
        "\n",
        "        # Ask if the user wants to stop or continue\n",
        "        if not ask_to_continue():\n",
        "            break  # Exit the loop and stop the program\n",
        "\n",
        "if __name__ == \"__main__\":\n",
        "    main()\n"
      ]
    }
  ]
}